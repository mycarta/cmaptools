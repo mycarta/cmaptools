{
 "cells": [
  {
   "cell_type": "code",
   "execution_count": 1,
   "id": "22df7a23",
   "metadata": {},
   "outputs": [],
   "source": [
    "from cmaptools import sqcbar\n",
    "import matplotlib.pyplot as plt"
   ]
  },
  {
   "cell_type": "code",
   "execution_count": 2,
   "id": "1a179a8f",
   "metadata": {
    "scrolled": false
   },
   "outputs": [],
   "source": [
    "rgb_colormap = sqcbar('afmhot')"
   ]
  },
  {
   "cell_type": "code",
   "execution_count": 3,
   "id": "8deca529",
   "metadata": {},
   "outputs": [
    {
     "data": {
      "image/png": "[encoded data removed]",
      "text/plain": [
       "<Figure size 360x360 with 1 Axes>"
      ]
     },
     "metadata": {},
     "output_type": "display_data"
    }
   ],
   "source": [
    "fig = plt.figure(figsize=(5,5))\n",
    "ax = fig.add_subplot(1, 1, 1)\n",
    "ax.set_xticks([])\n",
    "ax.set_yticks([])\n",
    "plt.imshow(rgb_colormap);"
   ]
  }
 ],
 "metadata": {
  "kernelspec": {
   "display_name": "Python [conda env:clrtools]",
   "language": "python",
   "name": "conda-env-clrtools-py"
  },
  "language_info": {
   "codemirror_mode": {
    "name": "ipython",
    "version": 3
   },
   "file_extension": ".py",
   "mimetype": "text/x-python",
   "name": "python",
   "nbconvert_exporter": "python",
   "pygments_lexer": "ipython3",
   "version": "3.10.4"
  }
 },
 "nbformat": 4,
 "nbformat_minor": 5
}
